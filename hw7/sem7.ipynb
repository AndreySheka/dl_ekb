{
 "cells": [
  {
   "cell_type": "markdown",
   "metadata": {},
   "source": [
    "# Seminar 7"
   ]
  },
  {
   "cell_type": "markdown",
   "metadata": {},
   "source": [
    "## Definition\n",
    "$$\n",
    "min_G max_D V(D,G) =  \\mathbb{E}_{x\\sim P} \\log D(x) + \\mathbb{E}_{z\\sim \\mathcal{N}} \\log(1 - D(G(z)))\n",
    "$$"
   ]
  },
  {
   "cell_type": "markdown",
   "metadata": {},
   "source": [
    "Let generator $G$ have parameters $\\theta$ and discriminator $D$ paramenters $\\psi$."
   ]
  },
  {
   "cell_type": "markdown",
   "metadata": {},
   "source": [
    "## Learning"
   ]
  },
  {
   "cell_type": "markdown",
   "metadata": {},
   "source": [
    "### D update\n",
    "Theory requires:\n",
    "$$\n",
    "\\psi_{t+1} \\leftarrow \\operatorname{argmax}_{\\psi} \\mathbb{E}_{x\\sim P} \\log D\\left(x;\\psi\\right) + \\mathbb{E}_{z\\sim \\mathcal{N}} \\log \\left(1 - D\\left(G(z;\\theta_t);\\psi\\right)\\right)\n",
    "$$\n",
    "\n",
    "In practice gradient step only. "
   ]
  },
  {
   "cell_type": "markdown",
   "metadata": {},
   "source": [
    "### G update, variant 1\n",
    "$$\n",
    "\\theta_{t+1} \\leftarrow \\theta_t - \\epsilon_t \\frac{\\partial}{\\partial\\theta} \\mathbb{E}_{z\\sim \\mathcal{N}} \\log \\left(1 - D\\left(G(z;\\theta_t);\\psi_{t+1}\\right)\\right)\n",
    "$$\n",
    "### G update, variant 2\n",
    "$$\n",
    "\\theta_{t+1} \\leftarrow \\theta_t + \\epsilon_t \\frac{\\partial}{\\partial\\theta} \\mathbb{E}_{z\\sim \\mathcal{N}} \\log D\\left(G(z;\\theta_t);\\psi_{t+1}\\right)$$"
   ]
  },
  {
   "cell_type": "markdown",
   "metadata": {},
   "source": [
    "The first corresponds to definition. What does the second correspond to? \n",
    "\n",
    "- $$\n",
    "min_G max_D V(D,G) =  \\mathbb{E}_{x\\sim P} \\log D(x) - \\mathbb{E}_{z\\sim \\mathcal{N}} \\log(D(G(z)))\n",
    "$$\n",
    "- $$\n",
    "max_G max_D V(D,G) =  \\mathbb{E}_{x\\sim P} \\log D(x) + \\mathbb{E}_{z\\sim \\mathcal{N}} \\log(D(G(z)))\n",
    "$$\n"
   ]
  },
  {
   "cell_type": "markdown",
   "metadata": {},
   "source": [
    "[Nice article](http://www.inference.vc/an-alternative-update-rule-for-generative-adversarial-networks/) about GAN (not tutorial)."
   ]
  },
  {
   "cell_type": "markdown",
   "metadata": {},
   "source": [
    "# Evaluating generative models"
   ]
  },
  {
   "cell_type": "markdown",
   "metadata": {},
   "source": [
    "[Theis](http://arxiv.org/pdf/1511.01844v2.pdf)"
   ]
  }
 ],
 "metadata": {
  "kernelspec": {
   "display_name": "Python 2",
   "language": "python",
   "name": "python2"
  },
  "language_info": {
   "codemirror_mode": {
    "name": "ipython",
    "version": 2
   },
   "file_extension": ".py",
   "mimetype": "text/x-python",
   "name": "python",
   "nbconvert_exporter": "python",
   "pygments_lexer": "ipython2",
   "version": "2.7.11"
  }
 },
 "nbformat": 4,
 "nbformat_minor": 0
}
