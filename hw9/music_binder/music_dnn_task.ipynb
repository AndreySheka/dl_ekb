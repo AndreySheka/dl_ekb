{
 "cells": [
  {
   "cell_type": "code",
   "execution_count": null,
   "metadata": {
    "collapsed": false
   },
   "outputs": [],
   "source": [
    "#coding: utf-8\n",
    "\n",
    "import warnings\n",
    "warnings.simplefilter(\"ignore\")\n",
    "\n",
    "import os\n",
    "import sys \n",
    "import wave\n",
    "import time\n",
    "import librosa\n",
    "import numpy as np\n",
    "from utils import *\n",
    "import matplotlib.pyplot as plt\n",
    "from IPython.display import Audio\n",
    "from StringIO import StringIO\n",
    "\n",
    "%pylab inline"
   ]
  },
  {
   "cell_type": "code",
   "execution_count": null,
   "metadata": {
    "collapsed": false
   },
   "outputs": [],
   "source": [
    "!wget https://www.dropbox.com/s/jtdc7y0bi00ii4p/genres.tar.gz?dl=0 -O genres.tar.gz \n",
    "!tar -xzf genres.tar.gz "
   ]
  },
  {
   "cell_type": "code",
   "execution_count": null,
   "metadata": {
    "collapsed": false
   },
   "outputs": [],
   "source": [
    "import IPython\n",
    "from IPython import display\n",
    "\n",
    "def Audio(url):\n",
    "    return display.HTML(\"<center><audio controls><source src='{}'></audio>\".format(url))"
   ]
  },
  {
   "cell_type": "code",
   "execution_count": null,
   "metadata": {
    "collapsed": false
   },
   "outputs": [],
   "source": [
    "sound_file = './genres/blues/blues.00000.au'\n",
    "\n",
    "y, sr = librosa.load(sound_file)\n",
    "librosa.output.write_wav('./genres/tmp.wav', y, sr, norm=True)\n",
    "Audio(url='./genres/tmp.wav')"
   ]
  },
  {
   "cell_type": "markdown",
   "metadata": {},
   "source": [
    "# Sound as 1D-Signal"
   ]
  },
  {
   "cell_type": "code",
   "execution_count": null,
   "metadata": {
    "collapsed": false
   },
   "outputs": [],
   "source": [
    "plt.figure(figsize=(20,4))\n",
    "pylab.plot(np.arange(len(y)) * 1.0 /sr, y, 'k')\n",
    "pylab.xlim([0, 10])\n",
    "pylab.show()"
   ]
  },
  {
   "cell_type": "markdown",
   "metadata": {},
   "source": [
    "# Sound as 2D-Signal"
   ]
  },
  {
   "cell_type": "code",
   "execution_count": null,
   "metadata": {
    "collapsed": true
   },
   "outputs": [],
   "source": [
    "S = librosa.feature.melspectrogram(y, sr=sr, n_mels=128)\n",
    "log_S = librosa.logamplitude(S, ref_power=np.max)"
   ]
  },
  {
   "cell_type": "code",
   "execution_count": null,
   "metadata": {
    "collapsed": false
   },
   "outputs": [],
   "source": [
    "plt.figure(figsize=(20,4))\n",
    "librosa.display.specshow(log_S, sr=sr, x_axis='time', y_axis='mel', cmap='hot')\n",
    "plt.title('mel power spectrogram')\n",
    "plt.colorbar(format='%+02.0f dB')\n",
    "plt.tight_layout()"
   ]
  },
  {
   "cell_type": "code",
   "execution_count": null,
   "metadata": {
    "collapsed": true
   },
   "outputs": [],
   "source": [
    "def get_spectgorgamm(fname):\n",
    "    y, sr = librosa.load(fname)\n",
    "    S = librosa.feature.melspectrogram(y, sr=sr, n_mels=128)\n",
    "    log_S = librosa.logamplitude(S, ref_power=np.max)\n",
    "    \n",
    "    return log_S[:, :1200]\n",
    "\n",
    "def plot_spectrogramm(log_S):\n",
    "    plt.figure(figsize=(20,4))\n",
    "    librosa.display.specshow(log_S, sr=sr, x_axis='time', y_axis='mel', cmap='hot')\n",
    "    plt.title('mel power spectrogram')\n",
    "    plt.colorbar(format='%+02.0f dB')\n",
    "    plt.tight_layout()"
   ]
  },
  {
   "cell_type": "markdown",
   "metadata": {},
   "source": [
    "# Prepare a data"
   ]
  },
  {
   "cell_type": "code",
   "execution_count": null,
   "metadata": {
    "collapsed": false
   },
   "outputs": [],
   "source": [
    "geners = ['blues', 'country', 'hiphop', 'metal', 'reggae', 'classical', 'disco', 'jazz', 'pop', 'rock']\n",
    "\n",
    "id2gener = dict()\n",
    "X_names, y = [], []\n",
    "for gener_id, gener in enumerate(geners):\n",
    "    id2gener[gener_id] = gener\n",
    "    for track in os.listdir('./genres/' + gener):\n",
    "        if '.mp3' in track or '.au' in track and '_' not in track:\n",
    "            trackfile = os.path.join('./genres/', gener, track)\n",
    "            X_names.append(trackfile)\n",
    "            y.append(gener_id)"
   ]
  },
  {
   "cell_type": "code",
   "execution_count": null,
   "metadata": {
    "collapsed": false
   },
   "outputs": [],
   "source": [
    "from multiprocessing import Pool\n",
    "\n",
    "ncpu = 4\n",
    "X = Pool(ncpu).map(get_spectgorgamm, X_names)"
   ]
  },
  {
   "cell_type": "markdown",
   "metadata": {},
   "source": [
    "# Nearest Neighbors genre classification"
   ]
  },
  {
   "cell_type": "code",
   "execution_count": null,
   "metadata": {
    "collapsed": false
   },
   "outputs": [],
   "source": [
    "perm = np.random.permutation(len(y))\n",
    "X, X_names, y = np.array(X)[perm].astype('float32'), np.array(X_names)[perm], np.array(y)[perm]\n",
    "Xreshape = X.reshape(X.shape[0], X.shape[1], X.shape[2])\n",
    "\n",
    "X_train, X_valid = Xreshape[:800], Xreshape[800:]\n",
    "y_train, y_valid = y[:800], y[800:]"
   ]
  },
  {
   "cell_type": "code",
   "execution_count": null,
   "metadata": {
    "collapsed": false
   },
   "outputs": [],
   "source": [
    "from sklearn.metrics import accuracy_score\n",
    "from sklearn.neighbors import KNeighborsClassifier\n",
    "\n",
    "clf = KNeighborsClassifier(n_jobs=ncpu)\n",
    "\n",
    "clf = <train clf>\n",
    "y_val_pred = <make prediction on valid set>\n",
    "\n",
    "print accuracy_score(y_valid, y_val_pred)"
   ]
  },
  {
   "cell_type": "markdown",
   "metadata": {},
   "source": [
    "# Convolution Nural Nets"
   ]
  },
  {
   "cell_type": "markdown",
   "metadata": {},
   "source": [
    "![](http://benanne.github.io/images/spotify_convnet.png)\n",
    "\n",
    "http://benanne.github.io/2014/08/05/spotify-cnns.html"
   ]
  },
  {
   "cell_type": "code",
   "execution_count": null,
   "metadata": {
    "collapsed": false
   },
   "outputs": [],
   "source": [
    "import theano\n",
    "import lasagne\n",
    "import theano.tensor as T"
   ]
  },
  {
   "cell_type": "code",
   "execution_count": null,
   "metadata": {
    "collapsed": false
   },
   "outputs": [],
   "source": [
    "perm = np.random.permutation(len(y))\n",
    "X, y = np.array(X)[perm].astype('float32'), np.array(y)[perm]\n",
    "Xreshape = X.reshape(X.shape[0], X.shape[1], X.shape[2])\n",
    "\n",
    "X_train, X_valid = Xreshape[:800], Xreshape[800:]\n",
    "y_train, y_valid = y[:800], y[800:]\n",
    "\n",
    "input_X, target_y = T.tensor3(\"X\", dtype='float64'), T.vector(\"y\", dtype='int32')\n",
    "nn = lasagne.layers.InputLayer(shape=(None, X.shape[1], X.shape[2]), input_var=input_X) \n",
    "\n",
    "nn = <Build convnet using Conv1DLayer MaxPool1DLayer>\n",
    "nn = <Add several DenseLayers and DropoutLayer>\n",
    "nn = lasagne.layers.DenseLayer(nn, 10, nonlinearity=lasagne.nonlinearities.softmax)"
   ]
  },
  {
   "cell_type": "code",
   "execution_count": null,
   "metadata": {
    "collapsed": false
   },
   "outputs": [],
   "source": [
    "y_predicted = lasagne.layers.get_output(nn)\n",
    "all_weights = lasagne.layers.get_all_params(nn)\n",
    "\n",
    "loss = lasagne.objectives.categorical_crossentropy(y_predicted, target_y).mean()\n",
    "accuracy = lasagne.objectives.categorical_accuracy(y_predicted, target_y).mean()\n",
    "updates_sgd = <Your favorite optimizer>"
   ]
  },
  {
   "cell_type": "code",
   "execution_count": null,
   "metadata": {
    "collapsed": false
   },
   "outputs": [],
   "source": [
    "train_fun = theano.function([input_X, target_y], [loss, accuracy], allow_input_downcast=True, updates=updates_sgd)\n",
    "test_fun  = theano.function([input_X, target_y], [loss, accuracy], allow_input_downcast=True)"
   ]
  },
  {
   "cell_type": "code",
   "execution_count": null,
   "metadata": {
    "collapsed": false,
    "scrolled": false
   },
   "outputs": [],
   "source": [
    "%%time \n",
    "\n",
    "conv_nn = train_net(nn, train_fun, test_fun, X_train, y_train, X_valid, y_valid, num_epochs=10, batch_size=50)"
   ]
  },
  {
   "cell_type": "code",
   "execution_count": null,
   "metadata": {
    "collapsed": false
   },
   "outputs": [],
   "source": [
    "plt.figure(figsize=(5, 5), dpi=500)\n",
    "W = lasagne.layers.get_all_params(nn)[0].get_value()\n",
    "W[::2, :, :] = 0.2\n",
    "W = np.hstack(W)\n",
    "pylab.imshow(W, cmap='hot', interpolation=\"nearest\")\n",
    "pylab.axis('off')\n",
    "pylab.show()"
   ]
  },
  {
   "cell_type": "markdown",
   "metadata": {},
   "source": [
    "# Find Simular Tracks"
   ]
  },
  {
   "cell_type": "markdown",
   "metadata": {},
   "source": [
    "<img src=\"./img/cnn_gr.png\" width=\"500\">"
   ]
  },
  {
   "cell_type": "code",
   "execution_count": null,
   "metadata": {
    "collapsed": true
   },
   "outputs": [],
   "source": [
    "from sklearn.neighbors import NearestNeighbors"
   ]
  },
  {
   "cell_type": "code",
   "execution_count": null,
   "metadata": {
    "collapsed": false
   },
   "outputs": [],
   "source": [
    "represent = <Get features from last but one layer>\n",
    "represent_fun = theano.function([input_X], [represent], allow_input_downcast=True)"
   ]
  },
  {
   "cell_type": "code",
   "execution_count": null,
   "metadata": {
    "collapsed": true
   },
   "outputs": [],
   "source": [
    "f = lambda x: np.array(represent_fun([x])[0])\n",
    "track_vectors = map(f, X_train) + map(f, X_valid)\n",
    "track_vectors = np.concatenate(track_vectors, axis=0)"
   ]
  },
  {
   "cell_type": "code",
   "execution_count": null,
   "metadata": {
    "collapsed": false
   },
   "outputs": [],
   "source": [
    "nn_pred = NearestNeighbors(metric='cosine', algorithm='brute')"
   ]
  },
  {
   "cell_type": "code",
   "execution_count": null,
   "metadata": {
    "collapsed": false
   },
   "outputs": [],
   "source": [
    "nn_pred = nn_pred.fit(track_vectors)"
   ]
  },
  {
   "cell_type": "code",
   "execution_count": null,
   "metadata": {
    "collapsed": false
   },
   "outputs": [],
   "source": [
    "X_names[0]"
   ]
  },
  {
   "cell_type": "code",
   "execution_count": null,
   "metadata": {
    "collapsed": false
   },
   "outputs": [],
   "source": [
    "ans = list(X_names[nn_pred.kneighbors(track_vectors[0])[1][0]])\n",
    "ans"
   ]
  },
  {
   "cell_type": "code",
   "execution_count": null,
   "metadata": {
    "collapsed": false
   },
   "outputs": [],
   "source": [
    "sound_file = ans[0]\n",
    "y, sr = librosa.load(sound_file)\n",
    "librosa.output.write_wav('./genres/tmp.wav', y, sr, norm=True)\n",
    "Audio(url='./genres/tmp.wav')"
   ]
  },
  {
   "cell_type": "code",
   "execution_count": null,
   "metadata": {
    "collapsed": false
   },
   "outputs": [],
   "source": [
    "sound_file = ans[1]\n",
    "y, sr = librosa.load(sound_file)\n",
    "librosa.output.write_wav('./genres/tmp.wav', y, sr, norm=True)\n",
    "Audio(url='./genres/tmp.wav')"
   ]
  },
  {
   "cell_type": "markdown",
   "metadata": {},
   "source": [
    "# Maps of tracks by svd and tsne"
   ]
  },
  {
   "cell_type": "markdown",
   "metadata": {},
   "source": [
    "Help: https://lts2.epfl.ch/blog/perekres/category/visualizing-hidden-structures-in-datasets-using-deep-learning/"
   ]
  },
  {
   "cell_type": "code",
   "execution_count": null,
   "metadata": {
    "collapsed": true
   },
   "outputs": [],
   "source": [
    "from sklearn.manifold import TSNE"
   ]
  },
  {
   "cell_type": "code",
   "execution_count": null,
   "metadata": {
    "collapsed": true
   },
   "outputs": [],
   "source": [
    "represent = lasagne.layers.get_output(nn.input_layer)\n",
    "represent_fun = theano.function([input_X], [represent], allow_input_downcast=True)"
   ]
  },
  {
   "cell_type": "code",
   "execution_count": null,
   "metadata": {
    "collapsed": false
   },
   "outputs": [],
   "source": [
    "f = lambda x: np.array(represent_fun([x])[0])\n",
    "track_vectors = map(f, X_train) + map(f, X_valid)\n",
    "track_vectors = np.concatenate(track_vectors, axis=0)\n",
    "\n",
    "track_labels = np.array(list(y_train) + list(y_valid))"
   ]
  },
  {
   "cell_type": "code",
   "execution_count": null,
   "metadata": {
    "collapsed": false
   },
   "outputs": [],
   "source": [
    "X_tsne = <Make TSNE Features>"
   ]
  },
  {
   "cell_type": "code",
   "execution_count": null,
   "metadata": {
    "collapsed": false
   },
   "outputs": [],
   "source": [
    "plt.figure(figsize=(10,10), dpi=500)\n",
    "colors = cm.hot(np.linspace(0, 1, len(id2gener)))\n",
    "\n",
    "for idx, gener in id2gener.items():\n",
    "    idx_ = np.where(track_labels == idx)\n",
    "    pylab.scatter(X_tsne[:, 0][idx_], X_tsne[:, 1][idx_], c=colors[idx], cmap=cm.hot, label=gener,s=50)\n",
    "\n",
    "pylab.legend(loc=0, ncol=5)"
   ]
  }
 ],
 "metadata": {
  "kernelspec": {
   "display_name": "Python 2",
   "language": "python",
   "name": "python2"
  },
  "language_info": {
   "codemirror_mode": {
    "name": "ipython",
    "version": 2
   },
   "file_extension": ".py",
   "mimetype": "text/x-python",
   "name": "python",
   "nbconvert_exporter": "python",
   "pygments_lexer": "ipython2",
   "version": "2.7.10"
  }
 },
 "nbformat": 4,
 "nbformat_minor": 0
}
